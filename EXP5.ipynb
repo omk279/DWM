{
  "nbformat": 4,
  "nbformat_minor": 0,
  "metadata": {
    "colab": {
      "provenance": []
    },
    "kernelspec": {
      "name": "python3",
      "display_name": "Python 3"
    },
    "language_info": {
      "name": "python"
    }
  },
  "cells": [
    {
      "cell_type": "code",
      "execution_count": 5,
      "metadata": {
        "colab": {
          "base_uri": "https://localhost:8080/"
        },
        "id": "60NRl-ijc9XV",
        "outputId": "cc817420-94b3-46f7-ea4d-c905480bd675"
      },
      "outputs": [
        {
          "output_type": "stream",
          "name": "stdout",
          "text": [
            "[{'milk': 4, 'bread': 4, 'butter': 5}, {('milk', 'bread'): 2, ('milk', 'butter'): 3, ('bread', 'butter'): 4}]\n"
          ]
        }
      ],
      "source": [
        "from itertools import combinations\n",
        "\n",
        "def get_frequent_itemsets(transactions, min_support):\n",
        "    itemsets = {}\n",
        "    for transaction in transactions:\n",
        "        for item in transaction:\n",
        "            if item in itemsets:\n",
        "                itemsets[item] += 1\n",
        "            else:\n",
        "                itemsets[item] = 1\n",
        "    frequent_itemsets = {item: support for item, support in itemsets.items() if support >= min_support}\n",
        "    return frequent_itemsets\n",
        "\n",
        "def get_candidate_itemsets(frequent_itemsets, k):\n",
        "    candidates = []\n",
        "    frequent_items = list(frequent_itemsets.keys())\n",
        "    for combination in combinations(frequent_items, k):\n",
        "        candidates.append(combination)\n",
        "    return candidates\n",
        "\n",
        "def apriori(transactions, min_support):\n",
        "    k = 1\n",
        "    frequent_itemsets = get_frequent_itemsets(transactions, min_support)\n",
        "    all_frequent_itemsets = [frequent_itemsets]\n",
        "    while frequent_itemsets:\n",
        "        k += 1\n",
        "        candidates = get_candidate_itemsets(frequent_itemsets, k)\n",
        "        candidate_supports = {candidate: 0 for candidate in candidates}\n",
        "        for transaction in transactions:\n",
        "            for candidate in candidates:\n",
        "                if set(candidate).issubset(set(transaction)):\n",
        "                    candidate_supports[candidate] += 1\n",
        "        frequent_itemsets = {itemset: support for itemset, support in candidate_supports.items() if support >= min_support}  # Corrected line\n",
        "        if frequent_itemsets:\n",
        "            all_frequent_itemsets.append(frequent_itemsets)\n",
        "    return all_frequent_itemsets\n",
        "\n",
        "transactions = [\n",
        "    ['milk', 'bread', 'butter'],\n",
        "    ['bread', 'butter','jam'],\n",
        "    ['milk', 'eggs'],\n",
        "    ['milk', 'butter'],\n",
        "    ['bread', 'butter'],\n",
        "    ['milk', 'bread', 'butter']\n",
        "]\n",
        "min_support = 2\n",
        "frequent_itemsets = apriori(transactions, min_support)\n",
        "print(frequent_itemsets)"
      ]
    }
  ]
}